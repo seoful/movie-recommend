{
 "cells": [
  {
   "cell_type": "code",
   "execution_count": 2,
   "metadata": {},
   "outputs": [],
   "source": [
    "import pandas as pd\n",
    "import numpy as np"
   ]
  },
  {
   "cell_type": "code",
   "execution_count": 6,
   "metadata": {},
   "outputs": [],
   "source": [
    "data = pd.read_table('../data/raw/u.data', sep='\\t', encoding='latin-1', names=['user_id','item_id', 'rating', 'timestamp'])\n",
    "users = pd.read_table('../data/raw/u.user', sep='|', encoding='latin-1', names=['user_id','age', 'gender', 'occupation', 'zip'])\n",
    "genres = pd.read_table('../data/raw/u.genre', sep='|', encoding='latin-1', names=['name','id'])\n",
    "items = pd.read_table('../data/raw/u.item', sep='|', encoding='latin-1', names=['item_id', 'title', 'release_date', 'video_release_date', 'IMDB_url', *genres['name'].to_list()])"
   ]
  },
  {
   "cell_type": "code",
   "execution_count": 7,
   "metadata": {},
   "outputs": [],
   "source": [
    "data.to_csv('../data/interim/data.csv')\n",
    "users.to_csv('../data/interim/users.csv')\n",
    "items.to_csv('../data/interim/items.csv')"
   ]
  },
  {
   "cell_type": "code",
   "execution_count": 10,
   "metadata": {},
   "outputs": [],
   "source": [
    "merged = pd.merge(data, items,how='left', on='item_id')\n",
    "merged = pd.merge(merged, users,how='left', on='user_id')\n",
    "merged.to_csv('../data/interim/merged.csv')"
   ]
  }
 ],
 "metadata": {
  "kernelspec": {
   "display_name": "pmldl",
   "language": "python",
   "name": "python3"
  },
  "language_info": {
   "codemirror_mode": {
    "name": "ipython",
    "version": 3
   },
   "file_extension": ".py",
   "mimetype": "text/x-python",
   "name": "python",
   "nbconvert_exporter": "python",
   "pygments_lexer": "ipython3",
   "version": "3.11.5"
  }
 },
 "nbformat": 4,
 "nbformat_minor": 2
}
